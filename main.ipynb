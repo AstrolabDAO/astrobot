{
 "cells": [
  {
   "cell_type": "code",
   "execution_count": 4,
   "metadata": {},
   "outputs": [],
   "source": [
    "# Flatworm (.wrm) uses the same loader as RST\n",
    "# UnstructuredPDFLoader and PyPDFium2Loader do not use OCR, won't work for images\n",
    "# for scanned Documents/handwritten text, use MathPix or AmazonTextractPDFParser (require API keys)\n",
    "from langchain_community.document_loaders import\\\n",
    "    TextLoader,\\\n",
    "    WebBaseLoader,\\\n",
    "    PyPDFium2Loader,\\\n",
    "    UnstructuredMarkdownLoader,\\\n",
    "    UnstructuredRSTLoader,\\\n",
    "    MergedDataLoader"
   ]
  },
  {
   "cell_type": "code",
   "execution_count": null,
   "metadata": {},
   "outputs": [],
   "source": []
  }
 ],
 "metadata": {
  "kernelspec": {
   "display_name": "Python 3",
   "language": "python",
   "name": "python3"
  },
  "language_info": {
   "codemirror_mode": {
    "name": "ipython",
    "version": 3
   },
   "file_extension": ".py",
   "mimetype": "text/x-python",
   "name": "python",
   "nbconvert_exporter": "python",
   "pygments_lexer": "ipython3",
   "version": "3.11.0"
  }
 },
 "nbformat": 4,
 "nbformat_minor": 2
}
